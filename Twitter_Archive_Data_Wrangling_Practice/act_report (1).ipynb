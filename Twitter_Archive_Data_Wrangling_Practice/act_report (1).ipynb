{
 "cells": [
  {
   "cell_type": "markdown",
   "metadata": {},
   "source": [
    "## Report: act_report\n",
    "* Create a **250-word-minimum written report** called \"act_report.pdf\" or \"act_report.html\" that communicates the insights and displays the visualization(s) produced from your wrangled data. This is to be framed as an external document, like a blog post or magazine article, for example."
   ]
  },
  {
   "cell_type": "markdown",
   "metadata": {},
   "source": [
    "Now that we have cleaned our data, we can get down to discovering some useful insights. Of key importance are the following three questions:\n",
    "1. Is there a correlation between retweet_counts and favorite count. In other words, if a tweet gets many retweets does it also receive a higher favorite count?\n",
    "2. Is there a positive correlation between a high rating numerator and favorite count. \n",
    "3. Lastly, we can investigate which dog names were most popular in the database."
   ]
  },
  {
   "cell_type": "markdown",
   "metadata": {},
   "source": [
    "The analysis carried out revealed that there is indeed a strong positive correlation between retweet_count and favorite_count. The visualization above proves this hypotheses. This implies that if a certain tweet has many retweets from different viewers then it correspondingly has a higher favorite count. Thus, twitter posts which are most appealing and engaging to viewers usually have more retweets. "
   ]
  },
  {
   "cell_type": "markdown",
   "metadata": {},
   "source": [
    "The second area of analysis was in trying to determine whether rating denominator was higher for tweets with a high value for favorite count. I expected that there ought to be a strong positive correlation and this was accurate. Favorite count does have a strong effect on the rating numerator for different tweets. This means that viewers who consider a tweet as a favorite provide it with a higher numerator rating. "
   ]
  },
  {
   "cell_type": "markdown",
   "metadata": {},
   "source": [
    "The last question was frivolous and it sought to discover which name was most popular in the database. I found that there were eleven instances of the namme Charles and this was the most popular name for dogs. The efforts to answer this question were however hampered by the fact that there were many None values in the dataframe. My attempts to remedy this issue proved unfruitful but I am content to select Charles as the most popular name for dogs. "
   ]
  }
 ],
 "metadata": {
  "kernelspec": {
   "display_name": "Python 3",
   "language": "python",
   "name": "python3"
  },
  "language_info": {
   "codemirror_mode": {
    "name": "ipython",
    "version": 3
   },
   "file_extension": ".py",
   "mimetype": "text/x-python",
   "name": "python",
   "nbconvert_exporter": "python",
   "pygments_lexer": "ipython3",
   "version": "3.6.3"
  }
 },
 "nbformat": 4,
 "nbformat_minor": 2
}
